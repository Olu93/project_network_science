{
 "cells": [
  {
   "cell_type": "code",
   "execution_count": 13,
   "metadata": {},
   "outputs": [],
   "source": [
    "import helper.visualization as viz\n",
    "import io\n",
    "import sys\n",
    "import pandas as pd\n",
    "import matplotlib.pyplot as plt\n",
    "import tempfile\n",
    "import numpy as np"
   ]
  },
  {
   "cell_type": "code",
   "execution_count": 15,
   "metadata": {},
   "outputs": [
    {
     "output_type": "execute_result",
     "data": {
      "text/plain": "                           Method      N    µ       NMI\n0           Coverage Maximization  250.0  0.1  1.000000\n1           Coverage Maximization  250.0  0.2  0.525391\n2           Coverage Maximization  250.0  0.3  0.429109\n3           Coverage Maximization  250.0  0.4  0.000000\n4           Coverage Maximization  250.0  0.5  0.000000\n..                            ...    ...  ...       ...\n852  Random Propagation Algorithm  500.0  0.1  0.181878\n853  Random Propagation Algorithm  500.0  0.5  0.033036\n854  Random Propagation Algorithm  500.0  0.4  0.082938\n855  Random Propagation Algorithm  500.0  0.6  0.021328\n856  Random Propagation Algorithm  500.0  0.7  0.037543\n\n[857 rows x 4 columns]",
      "text/html": "<div>\n<style scoped>\n    .dataframe tbody tr th:only-of-type {\n        vertical-align: middle;\n    }\n\n    .dataframe tbody tr th {\n        vertical-align: top;\n    }\n\n    .dataframe thead th {\n        text-align: right;\n    }\n</style>\n<table border=\"1\" class=\"dataframe\">\n  <thead>\n    <tr style=\"text-align: right;\">\n      <th></th>\n      <th>Method</th>\n      <th>N</th>\n      <th>µ</th>\n      <th>NMI</th>\n    </tr>\n  </thead>\n  <tbody>\n    <tr>\n      <td>0</td>\n      <td>Coverage Maximization</td>\n      <td>250.0</td>\n      <td>0.1</td>\n      <td>1.000000</td>\n    </tr>\n    <tr>\n      <td>1</td>\n      <td>Coverage Maximization</td>\n      <td>250.0</td>\n      <td>0.2</td>\n      <td>0.525391</td>\n    </tr>\n    <tr>\n      <td>2</td>\n      <td>Coverage Maximization</td>\n      <td>250.0</td>\n      <td>0.3</td>\n      <td>0.429109</td>\n    </tr>\n    <tr>\n      <td>3</td>\n      <td>Coverage Maximization</td>\n      <td>250.0</td>\n      <td>0.4</td>\n      <td>0.000000</td>\n    </tr>\n    <tr>\n      <td>4</td>\n      <td>Coverage Maximization</td>\n      <td>250.0</td>\n      <td>0.5</td>\n      <td>0.000000</td>\n    </tr>\n    <tr>\n      <td>...</td>\n      <td>...</td>\n      <td>...</td>\n      <td>...</td>\n      <td>...</td>\n    </tr>\n    <tr>\n      <td>852</td>\n      <td>Random Propagation Algorithm</td>\n      <td>500.0</td>\n      <td>0.1</td>\n      <td>0.181878</td>\n    </tr>\n    <tr>\n      <td>853</td>\n      <td>Random Propagation Algorithm</td>\n      <td>500.0</td>\n      <td>0.5</td>\n      <td>0.033036</td>\n    </tr>\n    <tr>\n      <td>854</td>\n      <td>Random Propagation Algorithm</td>\n      <td>500.0</td>\n      <td>0.4</td>\n      <td>0.082938</td>\n    </tr>\n    <tr>\n      <td>855</td>\n      <td>Random Propagation Algorithm</td>\n      <td>500.0</td>\n      <td>0.6</td>\n      <td>0.021328</td>\n    </tr>\n    <tr>\n      <td>856</td>\n      <td>Random Propagation Algorithm</td>\n      <td>500.0</td>\n      <td>0.7</td>\n      <td>0.037543</td>\n    </tr>\n  </tbody>\n</table>\n<p>857 rows × 4 columns</p>\n</div>"
     },
     "metadata": {},
     "execution_count": 15
    }
   ],
   "source": [
    "data = []\n",
    "preprocessed_data = None\n",
    "transformed_data = None\n",
    "# with tempfile.TemporaryFile('w') as summary_file:\n",
    "for subdir, dirs, files in os.walk('.\\data'):\n",
    "    for file in files:\n",
    "        curr_file_name = os.path.join(subdir, file)\n",
    "        with io.open(curr_file_name) as curr_file:\n",
    "            data.extend(curr_file.readlines())\n",
    "preprocessed_data = (line.replace(\"\\n\", \"\") for line in data)\n",
    "transformed_data = (line.split(\",\") for line in preprocessed_data)\n",
    "\n",
    "aggregated_data = pd.DataFrame(transformed_data, columns=(\"Method\", \"N\",\"µ\",\"NMI\"), dtype=np.float64)"
   ]
  },
  {
   "cell_type": "code",
   "execution_count": null,
   "metadata": {},
   "outputs": [],
   "source": []
  }
 ],
 "metadata": {
  "kernelspec": {
   "display_name": "ptgpu",
   "language": "python",
   "name": "ptgpu"
  },
  "language_info": {
   "codemirror_mode": {
    "name": "ipython",
    "version": 3
   },
   "file_extension": ".py",
   "mimetype": "text/x-python",
   "name": "python",
   "nbconvert_exporter": "python",
   "pygments_lexer": "ipython3",
   "version": "3.7.4-final"
  }
 },
 "nbformat": 4,
 "nbformat_minor": 2
}